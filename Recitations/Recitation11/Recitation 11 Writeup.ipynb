{
 "cells": [
  {
   "cell_type": "markdown",
   "metadata": {},
   "source": [
    "## Recitation 11 - Vectors"
   ]
  },
  {
   "cell_type": "markdown",
   "metadata": {},
   "source": [
    "### Introduction"
   ]
  },
  {
   "cell_type": "markdown",
   "metadata": {},
   "source": [
    "Let's start with something we already know about- Arrays. To recap, an array is a contiguous series that holds a fixed number of values of the same datatype. We know how to use indices to access and manipulate arrays. A **vector** is a *template class* that uses all of the syntax that we used with vanilla arrays, but adds in functionality that relieves of the burden of keeping track of memory allocation for the arrays. It also introduces a bunch of other features that makes handling arrays much simpler."
   ]
  },
  {
   "cell_type": "markdown",
   "metadata": {
    "collapsed": true
   },
   "source": [
    "### How Vectors Work- Syntax and Usage"
   ]
  },
  {
   "cell_type": "markdown",
   "metadata": {},
   "source": [
    "First things first. We need to include the apporpriate header files to use the vector class.\n",
    "\n",
    "```cpp\n",
    "#include <vector>\n",
    "```\n",
    "We can now move on to declaring a vector. This is general format of any  vector declaration:\n",
    "```cpp\n",
    "vector <datatype_here> name(size);\n",
    "```\n",
    "The size field is optional. Vectors are dynamically-sized, so the size that you give them during initialization isn't permanent- they can be resized as necessary. Let's look at a few examples\n",
    "```cpp\n",
    "vector <int> array1(10); //Initializes a vector that can store int values of size 10.\n",
    "vector <string> array2; //Initializes an empty vector that can store strings.\n",
    "```\n",
    "\n",
    "You can access elements of a vector in the same way you would access elements in an array, for example `array[4]`. Remember, indices begin from 0.\n",
    "\n",
    "You can find a quick reference to the functions available in C++ vector class in a nice PDF form [here](http://www.broculos.net/2007/11/c-stl-vector-class-cheatsheet.html), but we'll run through the essential ones as part of this recitation. \n"
   ]
  },
  {
   "cell_type": "markdown",
   "metadata": {},
   "source": [
    "### Recitation Activity Task 1 - The Basics"
   ]
  },
  {
   "cell_type": "markdown",
   "metadata": {},
   "source": [
    "For this activity we have a class defined in the stringReader.cpp file. For brevity, the class declarations, functions and the main function are all present in the same file. Most of the code for the exercise has been written out for you. You will only need to add code in sections that pertain to vectors (marked by comments). \n",
    "\n",
    "The given class following functionality\n",
    "- Adding strings to a vector after reading from a file \n",
    "- Finding the first matched string in the vector using a substring.\n",
    "- Removing *all* strings that match a given substring. \n",
    "\n",
    "Lets look at the class definition.\n",
    "```cpp\n",
    "class StringReader{\n",
    "\tprivate:\n",
    "\t\t//TODO: Initialize an empty vector of type string here\n",
    "\t\t//The name of the vector should be \"stringList\"\n",
    "\tpublic:\n",
    "\t\tvoid readFromFile(string);\n",
    "\t\tint findFirstStringMatch(string);\n",
    "\t\tvoid removeStringbyValue(string);\n",
    "\t\tstring getStringAtIndex(int);\n",
    "\t\tint getListSize();\n",
    "};\n",
    "```\n",
    "\n",
    "We need to add in the vector definition in the class following the instructions given. We need an empty vector of type string with the name \"stringList\". Lets go ahead and do that. \n",
    "\n",
    "```cpp\n",
    "class StringReader{\n",
    "\tprivate:\n",
    "\t\tvector<string> stringList;\n",
    "\tpublic:\n",
    "\t\tvoid readFromFile(string);\n",
    "\t\tint findFirstStringMatch(string);\n",
    "\t\tvoid removeStringbyValue(string);\n",
    "\t\tstring getStringAtIndex(int);\n",
    "\t\tint getListSize();\n",
    "};\n",
    "```\n",
    "\n",
    "This is our class definition with all the required variables and functions. We can move on  to the function definitions.\n"
   ]
  },
  {
   "cell_type": "markdown",
   "metadata": {},
   "source": [
    "##### readFromFIle\n",
    "\n",
    "```cpp\n",
    "void StringReader::readFromFile(string filename)\n",
    "{\n",
    "\tifstream inputFile(filename.c_str());\n",
    "\tstring name;\n",
    "\twhile(getline(inputFile, name))\n",
    "\t{\n",
    "\t\t//TODO: Append the variable read from the file to stringList\n",
    "\t}\n",
    "}\n",
    "```\n",
    "\n",
    "This function reads strings seperated by the newline character in a file and appends this data to the string vector of the class.\n",
    "\n",
    "Adding elements to vectors are done primarily using two functions `pushback()` and `insert()`\n",
    "\n",
    "`push_back()` takes in one parameter- The element to be added and appends it to the end of the vector. \n",
    "\n",
    "```cpp\n",
    "vector <int> array1; // initializes an empty array\n",
    "array1.push_back(10) //Adds 10 to the end of the array. \n",
    "cout<< array1.size() //This will print the size of the array - in this case, 1.\n",
    "```\n",
    "\n",
    "To add an element in the middle of the vector, use `insert()`.  The format of insert is-\n",
    "\n",
    "```cpp\n",
    "vector-name.insert(vector-name.begin()+ position, value)\n",
    "```\n",
    "For example-\n",
    "```cpp\n",
    "array1.insert(array1.begin()+ 3, value) //Inserts an element in index 3. \n",
    "```\n",
    "Here, the `begin` function returns an iterator to the first element of the vector. You can think of it as an arrow pointer that points to the memory location just before the first element. The `begin()+1` would thus refer to the first element and `begin()+k` would refer to the k<sup>th</sup> element in the vector.\n",
    "\n",
    "For our case in readFromFile we need to the append the line read from the file at the end of `stringList`. We can use `push_back()` for this purpose.\n",
    "\n",
    "```cpp\n",
    "void StringReader::readFromFile(string filename)\n",
    "{\n",
    "\tifstream inputFile(filename.c_str());\n",
    "\tstring line;\n",
    "\twhile(getline(inputFile, line))\n",
    "\t{\n",
    "\t\tstringList.push_back(line);\n",
    "\t}\n",
    "}\n",
    "```"
   ]
  },
  {
   "cell_type": "markdown",
   "metadata": {},
   "source": [
    "##### removeStringByValue\n",
    "\n",
    "```cpp\n",
    "void StringReader::removeStringbyValue(string substring) \n",
    "{\n",
    "\tfor (int i=0; i < int(stringList.size()); i++)\n",
    "\t{\n",
    "\t\t//TODO: Add code to delete all matches for the substring.\n",
    "\t}\n",
    "}\n",
    "```\n",
    "\n",
    "Here we use for loops to access the elements in a vector, just like we did with arrays. Notice that while we had to previously pass the size of the arrays a parameter to our functions, here we just get the size of the array using a function call to the `size()` function.\n",
    "\n",
    "The first thing we need to put is a condition that would evaluate to true whenever the substring is found inside the i<sup>th</sup> element of the vector. We'll use the the `find()` function of strings. Remember, every element of the vector is a string on it's own, so we can use string functions with them. \n",
    "\n",
    "```cpp\n",
    "if (stringList[i].find(substring)< stringList.size())\n",
    "```\n",
    "\n",
    "Now inside the while loop we need to delete every element that matches. Removing elements in vectors is done using the `erase()` method, that has the same sytax as the `insert()` function.\n",
    "\n",
    "```cpp\n",
    "vector_name.erase(vector_name.begin()+ position)\n",
    "```\n",
    "\n",
    "\n",
    "For example-\n",
    "```cpp\n",
    "array1.erase(array1.begin()+ 3) //Deletes an element at index 3. \n",
    "```\n",
    "\n",
    "Since we need to delete the add the i<sup>th</sup> element of the vector, if the if statement evaluates to true, we will call the erase function with the appropriate parameters. The completed function will look like this.\n",
    "\n",
    "```cpp\n",
    "void StringReader::removeStringbyValue(string substring) \n",
    "{\n",
    "\tfor (int i=0; i < int(stringList.size()); i++)\n",
    "\t{\n",
    "\t\tcout<<stringList[i]<<endl;\n",
    "\t\tif (stringList[i].find(substring)!= string::npos)\n",
    "\t\t{\n",
    "\t\t\tstringList.erase(stringList.begin()+i);\n",
    "\t\t}\n",
    "\t}\n",
    "}\n",
    "```"
   ]
  },
  {
   "cell_type": "markdown",
   "metadata": {
    "collapsed": true
   },
   "source": [
    "You can now work your way through the `findFirstStringMatch` function. \n",
    "- Think about what your `if` condititon would say\n",
    "- What would you do to return the first match?\n",
    "- What would you do to return **only** the first match?"
   ]
  },
  {
   "cell_type": "markdown",
   "metadata": {},
   "source": [
    "Once you're done with all the functions, the output for the code will look like this:\n",
    "\n",
    "```\n",
    "The names in the vector are: \n",
    "Erik\n",
    "Jason\n",
    "Nick\n",
    "Karthik\n",
    "Vipra\n",
    "Monika\n",
    "Michael\n",
    "Deleting all names containing 'ik'...\n",
    "The names in the vector now are: \n",
    "Jason\n",
    "Nick\n",
    "Vipra\n",
    "Michael\n",
    "```"
   ]
  },
  {
   "cell_type": "markdown",
   "metadata": {
    "collapsed": true
   },
   "source": [
    "### Recitation Activity Task 2- Vectors for Custom Classes"
   ]
  },
  {
   "cell_type": "markdown",
   "metadata": {},
   "source": [
    "Now that we have the basics of vectors pinned down, we can move on to more complex use cases. Vectors aren't just restricted to be used with simple datatypes. Just like arrays, you can use them for classes you create as well in the following manner- \n",
    "\n",
    "```cpp\n",
    "vector <myClass> myArray; // Where \"myClass\" is defined  elsewhere in the code\n",
    "```\n",
    "\n",
    "This will be our goal for the second task. Let's begin.\n",
    "\n",
    "The file `rect.h` contains a skeleton for two classes- Rect and RectVector. the `Rect` class aims to model a rectangle which can be defined using the (x,y) coordinates of the lower left corner, its width and its height. As an additional attribute we have also added the color of the rectangle.\n",
    "\n",
    "Lets start with `Rect` class. Your first task here would be to flesh out the incomplete functions of the Rect class in the file `rect.cpp` . The implementation details of the functions are given as comments within the functions themselves. \n",
    "\n",
    "Once you have done that, we can move on to the RectVector class. This class will model a vector of the previously created `Rect` class. Let's look at it's class skeleton in `rect.h`\n",
    "\n",
    "```cpp\n",
    "class RectVector\n",
    "{\n",
    "private:\n",
    "\t//TODO- define an empty vector with the name \"vect\" of type Rect.\n",
    "public:\n",
    "\tRectVector(Rect [], int);\n",
    "\tRect getRectByIndex(int);\n",
    "\tvoid pushRect(Rect);\n",
    "\tvoid removeRectByIndex(int);\n",
    "\tint findPoint(float, float);\n",
    "\tvoid removeRectByColor(string);\n",
    "};\n",
    "```\n",
    "\n",
    "Our first task is to initialize a vector of type `Rect`. Recall the syntax of initializing a vector from the previous task. This syntax can just as easily extended to custom classes. In the private section of the `RectVector` class initialize the new vector as-\n",
    "\n",
    "```cpp\n",
    "vector <Rect> vect;\n",
    "```\n",
    "\n",
    "Our class skeleton is complete. Let's move on to completing the function definitions of this class. Two of the (easier?) functions- `pushRect` and `removeRectByIndex` are completed for you. You'll need to complete the constructor, `findPoint` and `removeRectByColor`.\n",
    "\n",
    "For the constructor, you're given a constructor that takes in a vanilla array and it's size as arguments. You need to populate the `vect` variable with the contents of the array. Recall that elements can be pushed onto a vector using the `push_back` function. Use this function to append every element of the array onto the `vect` variable. Think `for` loops.\n",
    "\n",
    "\n",
    "The next function involves `findPoint` involves searching though the array of rectangles and returning the first rectangle that contains the coordinates of the point passed as parameters to the function. The template for this function would be almost identical to the `findFirstStringMatch` function in the previous task of the activity, with the only change being in the `if` condition. What is the condition that needs to be evaluated here?\n",
    "\n",
    "```cpp\n",
    "int RectVector::findPoint(float pointX, float pointY)\n",
    "{\n",
    "\tint index= -1;\n",
    "\tint length = vect.size();\n",
    "\tfor(int i=0; i <length ; i++)\n",
    "\t{\n",
    "\t\tif(        ) //What goes here?\n",
    "\t\t{\n",
    "\t\t\tindex = i;\n",
    "\t\t\tbreak;\n",
    "\t\t}\n",
    "\t}\n",
    "\treturn index;\n",
    "}\n",
    "```\n",
    "\n",
    "The last function for this exercise- `removeRectByColor` again involves code that has the same template as one of the functions used in the previous task. Which one is it? What's different about this function? another useful point of reference for this function might also be the `removeRectbyPos()` function. Implement this function and move on to testing your code."
   ]
  },
  {
   "cell_type": "markdown",
   "metadata": {},
   "source": [
    "### Running rect_main.cpp"
   ]
  },
  {
   "cell_type": "markdown",
   "metadata": {},
   "source": [
    "Once you're satisfied with your code in `rect.cpp`. You can go agead and run `rect_main.cpp`. You don't need to create a new project in CodeBlocks. Just put all of the files in the same folder. The main function creates an array of three Rectangles. Each instance of this array tests a different constructor in your `Rect` class. Once this array is created, it's passed to the `RectVector` object `rv` to populate its `vect` variable. The rest of the code tests, the rest of the functions you have written. If all goes well, this is what your code will output-\n",
    "\n",
    "```\n",
    "The color of the element at index 0 is Red\n",
    "The point (0,0) was found at index 1\n",
    "Removing all red-colored rectangles...\n",
    "The color of the element at index 0 is Blue\n",
    "```"
   ]
  }
 ],
 "metadata": {
  "kernelspec": {
   "display_name": "Python 3",
   "language": "python",
   "name": "python3"
  },
  "language_info": {
   "codemirror_mode": {
    "name": "ipython",
    "version": 3
   },
   "file_extension": ".py",
   "mimetype": "text/x-python",
   "name": "python",
   "nbconvert_exporter": "python",
   "pygments_lexer": "ipython3",
   "version": "3.6.0"
  }
 },
 "nbformat": 4,
 "nbformat_minor": 2
}
